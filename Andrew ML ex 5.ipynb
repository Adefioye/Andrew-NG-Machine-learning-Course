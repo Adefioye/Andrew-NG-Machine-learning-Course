{
 "cells": [
  {
   "cell_type": "code",
   "execution_count": 175,
   "metadata": {},
   "outputs": [],
   "source": [
    "import numpy as np\n",
    "import pandas as pd\n",
    "import matplotlib.pyplot as plt # Plotting library\n",
    "from scipy.optimize import minimize # Optimization module in scipy\n",
    "import seaborn as sns\n",
    "%matplotlib inline\n",
    "from scipy.io import loadmat # will be used to load MATLAB mat datafile format"
   ]
  },
  {
   "cell_type": "code",
   "execution_count": 176,
   "metadata": {},
   "outputs": [
    {
     "data": {
      "text/plain": [
       "dict_keys(['__header__', '__version__', '__globals__', 'X', 'y', 'Xtest', 'ytest', 'Xval', 'yval'])"
      ]
     },
     "execution_count": 176,
     "metadata": {},
     "output_type": "execute_result"
    }
   ],
   "source": [
    "data = loadmat('ex5data1.mat')\n",
    "data.keys()"
   ]
  },
  {
   "cell_type": "code",
   "execution_count": 177,
   "metadata": {},
   "outputs": [],
   "source": [
    "#data"
   ]
  },
  {
   "cell_type": "code",
   "execution_count": 178,
   "metadata": {},
   "outputs": [],
   "source": [
    "X_train, y_train = data['X'], data['y']\n",
    "X_test, y_test = data['Xtest'], data['ytest']\n",
    "X_val, y_val = data['Xval'], data['yval']"
   ]
  },
  {
   "cell_type": "code",
   "execution_count": 179,
   "metadata": {},
   "outputs": [
    {
     "data": {
      "text/plain": [
       "((12, 1), (12, 1), (21, 1), (21, 1), (21, 1), (21, 1))"
      ]
     },
     "execution_count": 179,
     "metadata": {},
     "output_type": "execute_result"
    }
   ],
   "source": [
    "X_train.shape, y_train.shape, X_test.shape, y_test.shape, X_val.shape, y_val.shape"
   ]
  },
  {
   "cell_type": "code",
   "execution_count": 180,
   "metadata": {},
   "outputs": [
    {
     "data": {
      "text/plain": [
       "array([[-15.93675813],\n",
       "       [-29.15297922],\n",
       "       [ 36.18954863],\n",
       "       [ 37.49218733],\n",
       "       [-48.05882945],\n",
       "       [ -8.94145794],\n",
       "       [ 15.30779289],\n",
       "       [-34.70626581],\n",
       "       [  1.38915437],\n",
       "       [-44.38375985],\n",
       "       [  7.01350208],\n",
       "       [ 22.76274892]])"
      ]
     },
     "execution_count": 180,
     "metadata": {},
     "output_type": "execute_result"
    }
   ],
   "source": [
    "X_train"
   ]
  },
  {
   "cell_type": "code",
   "execution_count": 181,
   "metadata": {},
   "outputs": [
    {
     "data": {
      "text/plain": [
       "Text(0, 0.5, 'Water flowing out of the dam (y)')"
      ]
     },
     "execution_count": 181,
     "metadata": {},
     "output_type": "execute_result"
    },
    {
     "data": {
      "image/png": "[encoded data removed]",
      "text/plain": [
       "<Figure size 432x288 with 1 Axes>"
      ]
     },
     "metadata": {
      "needs_background": "light"
     },
     "output_type": "display_data"
    }
   ],
   "source": [
    "#Plot training example\n",
    "plt.plot(X_train, y_train, 'go')\n",
    "plt.xlabel('Change in water level (x)')\n",
    "plt.ylabel('Water flowing out of the dam (y)')"
   ]
  },
  {
   "cell_type": "markdown",
   "metadata": {},
   "source": [
    "### Regularized linear regression cost function"
   ]
  },
  {
   "cell_type": "code",
   "execution_count": 182,
   "metadata": {},
   "outputs": [],
   "source": [
    "def linearRegCostFunction(theta, X, y, lambda_):\n",
    "    \n",
    "    m = len(y)\n",
    "    h = np.dot(X, theta.T)\n",
    "    grad = np.zeros(X.shape[1])\n",
    "    error = h - y.ravel() # y is a 2D array, use ravel to make it 1D\n",
    "    J = ((1/ (2*m)) * np.sum(error ** 2)) + ((lambda_/(2*m)) * np.sum(theta[1:] ** 2))\n",
    "    grad[0] = (1/m) * np.dot(X[:,0], error)  \n",
    "    grad[1:]= ((1/m) * np.dot(X[:,1], error)) + ((lambda_/m) * theta[1:])\n",
    "    \n",
    "    return J, grad"
   ]
  },
  {
   "cell_type": "code",
   "execution_count": 183,
   "metadata": {},
   "outputs": [],
   "source": [
    "#def lrGradentReg(X, y, theta, lambda_):\n",
    "    \n",
    "    #m = len(y)\n",
    "    #h = np.dot(X, theta)\n",
    "    #error = h - y.ravel()\n",
    "    #grad1 = (1/m) * np.dot(X[:,0], error)  \n",
    "    #grad2= ((1/m) * np.dot(X[:,1], error)) + ((lambda_/m) * theta[1])\n",
    "    \n",
    "    #return np.array([grad1, grad2])\n"
   ]
  },
  {
   "cell_type": "code",
   "execution_count": 184,
   "metadata": {},
   "outputs": [],
   "source": [
    "# Add intercept term to X_train \n",
    "\n",
    "X_train = np.concatenate((np.ones((len(X_train), 1)), X_train), axis=1)\n",
    "initial_theta = np.array([1,1])\n",
    "J, grad = linearRegCostFunction(X=X_train, y=y_train, theta=initial_theta, lambda_=1)\n",
    "#gradient = lrGradentReg(X=X_train, y=y_train, theta=theta, lambda_=1 )"
   ]
  },
  {
   "cell_type": "code",
   "execution_count": 185,
   "metadata": {},
   "outputs": [
    {
     "data": {
      "text/plain": [
       "(303.9931922202643, array([-15.30301567, 598.25074417]))"
      ]
     },
     "execution_count": 185,
     "metadata": {},
     "output_type": "execute_result"
    }
   ],
   "source": [
    "J, gradient"
   ]
  },
  {
   "cell_type": "code",
   "execution_count": 186,
   "metadata": {},
   "outputs": [],
   "source": [
    "def trainLinearReg(X, y, lambda_):\n",
    "    initial_theta = np.array([0,0])\n",
    "    res = minimize(linearRegCostFunction, initial_theta, args=(X, y, lambda_), method=None, jac=True,\\\n",
    "                     options={'maxiter':5000})\n",
    "    \n",
    "    return res"
   ]
  },
  {
   "cell_type": "code",
   "execution_count": 187,
   "metadata": {},
   "outputs": [],
   "source": [
    "fit = trainLinearReg(X=X_train, y=y_train, lambda_=0)"
   ]
  },
  {
   "cell_type": "code",
   "execution_count": 188,
   "metadata": {},
   "outputs": [
    {
     "data": {
      "text/plain": [
       "array([13.08790351,  0.36777923])"
      ]
     },
     "execution_count": 188,
     "metadata": {},
     "output_type": "execute_result"
    }
   ],
   "source": [
    "fit.x"
   ]
  },
  {
   "cell_type": "code",
   "execution_count": 189,
   "metadata": {},
   "outputs": [
    {
     "data": {
      "text/plain": [
       "<matplotlib.legend.Legend at 0xb709588>"
      ]
     },
     "execution_count": 189,
     "metadata": {},
     "output_type": "execute_result"
    },
    {
     "data": {
      "image/png": "[encoded data removed]",
      "text/plain": [
       "<Figure size 432x288 with 1 Axes>"
      ]
     },
     "metadata": {
      "needs_background": "light"
     },
     "output_type": "display_data"
    }
   ],
   "source": [
    "# Fitting optimized parameters to training example\n",
    "\n",
    "x = np.arange(-50,40)\n",
    "h = fit.x[0] + (fit.x[1] * x) # Linear regression hypothesis based on optimized parameters\n",
    "\n",
    "plt.plot(x, h, label= 'Scipy optimization')\n",
    "\n",
    "#Plot training example\n",
    "plt.plot(X_train[:, 1], y_train, 'go')\n",
    "plt.xlabel('Change in water level (x)')\n",
    "plt.ylabel('Water flowing out of the dam (y)')\n",
    "plt.legend(loc='best')"
   ]
  },
  {
   "cell_type": "code",
   "execution_count": 190,
   "metadata": {},
   "outputs": [],
   "source": [
    "# Define learning curve to debug the learning algorithm\n",
    "\n",
    "# To achieve this add intercept one to Xval\n",
    "\n",
    "X_val = np.concatenate((np.ones((len(X_val), 1)), X_val), axis=1)\n",
    "\n",
    "def learningCurve(X_train, y_train, X_val, y_val, lambda_):\n",
    "    \n",
    "    m = len(X_train)\n",
    "    \n",
    "    error_train = np.zeros(m)\n",
    "    error_val   = np.zeros(m)\n",
    "    \n",
    "    for i in range(len(X_train)):\n",
    "        res = trainLinearReg(X_train[:i+1, :], y_train[:i+1], lambda_)\n",
    "        error_train[i] = linearRegCostFunction(res.x, X_train[:i+1, :], y_train[:i+1], lambda_)[0]\n",
    "        error_val[i] = linearRegCostFunction(res.x, X_val, y_val, lambda_)[0]\n",
    "        \n",
    "    return error_train, error_val    "
   ]
  },
  {
   "cell_type": "code",
   "execution_count": 191,
   "metadata": {},
   "outputs": [],
   "source": [
    "error_train, error_val = learningCurve(X_train, y_train, X_val, y_val, lambda_=0)"
   ]
  },
  {
   "cell_type": "code",
   "execution_count": 192,
   "metadata": {},
   "outputs": [
    {
     "data": {
      "text/plain": [
       "((12,), (12,))"
      ]
     },
     "execution_count": 192,
     "metadata": {},
     "output_type": "execute_result"
    }
   ],
   "source": [
    "error_train.shape, error_val.shape"
   ]
  },
  {
   "cell_type": "code",
   "execution_count": 193,
   "metadata": {},
   "outputs": [
    {
     "data": {
      "text/plain": [
       "Text(0.5, 1.0, 'Learning curve for linear regression')"
      ]
     },
     "execution_count": 193,
     "metadata": {},
     "output_type": "execute_result"
    },
    {
     "data": {
      "image/png": "[encoded data removed]",
      "text/plain": [
       "<Figure size 432x288 with 1 Axes>"
      ]
     },
     "metadata": {
      "needs_background": "light"
     },
     "output_type": "display_data"
    }
   ],
   "source": [
    "# Plot learning curve\n",
    "\n",
    "plt.plot(np.arange(1, 13), error_train, label= 'Train error')\n",
    "plt.plot(np.arange(1, 13), error_val, label = 'Validation error')\n",
    "plt.xlabel('Number of training examples')\n",
    "plt.ylabel('Cost function')\n",
    "plt.legend(loc='best')\n",
    "plt.title('Learning curve for linear regression')"
   ]
  },
  {
   "cell_type": "markdown",
   "metadata": {},
   "source": [
    "#### . It is observed from the learning curve that a small gap exists between the train and validation error , Hence this results in underfitting   (a bias problem). therefore,  to debug the learning algorithm, we try adding more additional features."
   ]
  },
  {
   "cell_type": "markdown",
   "metadata": {},
   "source": [
    "## Polynomial regression"
   ]
  },
  {
   "cell_type": "code",
   "execution_count": 194,
   "metadata": {},
   "outputs": [],
   "source": [
    "# Return X_train and X_val to original values\n",
    "\n",
    "X_train, y_train = data['X'], data['y']\n",
    "X_test, y_test = data['Xtest'], data['ytest']\n",
    "X_val, y_val = data['Xval'], data['yval']"
   ]
  },
  {
   "cell_type": "code",
   "execution_count": 195,
   "metadata": {},
   "outputs": [
    {
     "data": {
      "text/plain": [
       "((12, 1), (21, 1), (21, 1))"
      ]
     },
     "execution_count": 195,
     "metadata": {},
     "output_type": "execute_result"
    }
   ],
   "source": [
    "X_train.shape, X_val.shape, X_test.shape"
   ]
  },
  {
   "cell_type": "code",
   "execution_count": 196,
   "metadata": {},
   "outputs": [],
   "source": [
    "# To debug the learning algorithm, we define a function to make plynomial features with power p\n",
    "\n",
    "def polyFeatures(X, p):\n",
    "    \n",
    "    X_poly = np.zeros((X.shape[0], p))\n",
    "    \n",
    "    for i in range(p):\n",
    "        X_poly[:, i] = X.ravel() ** (i+1)\n",
    "        \n",
    "    return X_poly    "
   ]
  },
  {
   "cell_type": "code",
   "execution_count": 197,
   "metadata": {},
   "outputs": [],
   "source": [
    "# Perform feature normalization to put features in same scale to make gradient descent algorithm reach optimum quickly\n",
    "\n",
    "def featureNormalize(X):\n",
    "    \n",
    "    X_norm = X.copy()\n",
    "    mu = np.zeros(X.shape[1])\n",
    "    sigma = np.zeros(X.shape[1])\n",
    "    \n",
    "    for i in range(X.shape[1]):\n",
    "        \n",
    "        mu[i] = np.mean(X[:,i])\n",
    "        sigma[i] = np.std(X[:,i])\n",
    "        \n",
    "        X_norm[:,i] = (X[:,i] - mu[i])/ sigma[i]\n",
    "        \n",
    "    \n",
    "    \n",
    "    return X_norm, mu, sigma"
   ]
  },
  {
   "cell_type": "code",
   "execution_count": 198,
   "metadata": {},
   "outputs": [],
   "source": [
    "# Map X onto polynomial features and Normalize\n",
    "\n",
    "p = 8\n",
    "\n",
    "# Map X_poly_train, X_poly_val and X_poly_test onto polynomial features and Normalize and add bias unit 1\n",
    "\n",
    "X_poly_train = polyFeatures(X_train, p)\n",
    "X_poly_train = featureNormalize(X_poly_train)[0]\n",
    "X_poly_train = np.concatenate((np.ones((len(X_poly_train), 1)), X_poly_train), axis=1)\n",
    "\n",
    "X_poly_val = polyFeatures(X_val, p)\n",
    "X_poly_val = featureNormalize(X_poly_val)[0]\n",
    "X_poly_val = np.concatenate((np.ones((len(X_poly_val), 1)), X_poly_val), axis=1)\n",
    "\n",
    "X_poly_test = polyFeatures(X_test, p)\n",
    "X_poly_test = featureNormalize(X_poly_test)[0]\n",
    "X_poly_test = np.concatenate((np.ones((len(X_poly_test), 1)), X_poly_test), axis=1)"
   ]
  },
  {
   "cell_type": "code",
   "execution_count": 199,
   "metadata": {},
   "outputs": [
    {
     "data": {
      "text/plain": [
       "((12, 9), (21, 9), (21, 9))"
      ]
     },
     "execution_count": 199,
     "metadata": {},
     "output_type": "execute_result"
    }
   ],
   "source": [
    "X_poly_train.shape, X_poly_val.shape, X_poly_test.shape"
   ]
  },
  {
   "cell_type": "code",
   "execution_count": 200,
   "metadata": {},
   "outputs": [],
   "source": [
    "def trainPolyLinearReg(X, y, lambda_):\n",
    "    initial_theta = np.zeros(X.shape[1])\n",
    "    res = minimize(linearRegCostFunction, initial_theta, args=(X, y, lambda_), method=None, jac=True,\\\n",
    "                     options={'maxiter':55})\n",
    "    \n",
    "    return res"
   ]
  },
  {
   "cell_type": "code",
   "execution_count": 204,
   "metadata": {},
   "outputs": [
    {
     "data": {
      "text/plain": [
       "      fun: 26.162129171187445\n",
       " hess_inv: array([[ 1.0341277 , -0.0050014 , -0.0050014 , -0.0050014 , -0.0050014 ,\n",
       "        -0.0050014 , -0.0050014 , -0.0050014 , -0.0050014 ],\n",
       "       [-0.0050014 ,  0.95756323, -0.04243677, -0.04243677, -0.04243677,\n",
       "        -0.04243677, -0.04243677, -0.04243677, -0.04243677],\n",
       "       [-0.0050014 , -0.04243677,  0.95756323, -0.04243677, -0.04243677,\n",
       "        -0.04243677, -0.04243677, -0.04243677, -0.04243677],\n",
       "       [-0.0050014 , -0.04243677, -0.04243677,  0.95756323, -0.04243677,\n",
       "        -0.04243677, -0.04243677, -0.04243677, -0.04243677],\n",
       "       [-0.0050014 , -0.04243677, -0.04243677, -0.04243677,  0.95756323,\n",
       "        -0.04243677, -0.04243677, -0.04243677, -0.04243677],\n",
       "       [-0.0050014 , -0.04243677, -0.04243677, -0.04243677, -0.04243677,\n",
       "         0.95756323, -0.04243677, -0.04243677, -0.04243677],\n",
       "       [-0.0050014 , -0.04243677, -0.04243677, -0.04243677, -0.04243677,\n",
       "        -0.04243677,  0.95756323, -0.04243677, -0.04243677],\n",
       "       [-0.0050014 , -0.04243677, -0.04243677, -0.04243677, -0.04243677,\n",
       "        -0.04243677, -0.04243677,  0.95756323, -0.04243677],\n",
       "       [-0.0050014 , -0.04243677, -0.04243677, -0.04243677, -0.04243677,\n",
       "        -0.04243677, -0.04243677, -0.04243677,  0.95756323]])\n",
       "      jac: array([-3.15418782, -2.69066368, -2.69066368, -2.69066368, -2.69066368,\n",
       "       -2.69066368, -2.69066368, -2.69066368, -2.69066368])\n",
       "  message: 'Desired error not necessarily achieved due to precision loss.'\n",
       "     nfev: 88\n",
       "      nit: 4\n",
       "     njev: 76\n",
       "   status: 2\n",
       "  success: False\n",
       "        x: array([8.0634015 , 5.14578624, 5.14578624, 5.14578624, 5.14578624,\n",
       "       5.14578624, 5.14578624, 5.14578624, 5.14578624])"
      ]
     },
     "execution_count": 204,
     "metadata": {},
     "output_type": "execute_result"
    }
   ],
   "source": [
    "trainPolyLinearReg(X_poly_train, y_train, 0)"
   ]
  },
  {
   "cell_type": "code",
   "execution_count": 203,
   "metadata": {},
   "outputs": [],
   "source": []
  }
 ],
 "metadata": {
  "kernelspec": {
   "display_name": "Python 3",
   "language": "python",
   "name": "python3"
  },
  "language_info": {
   "codemirror_mode": {
    "name": "ipython",
    "version": 3
   },
   "file_extension": ".py",
   "mimetype": "text/x-python",
   "name": "python",
   "nbconvert_exporter": "python",
   "pygments_lexer": "ipython3",
   "version": "3.7.1"
  }
 },
 "nbformat": 4,
 "nbformat_minor": 2
}
